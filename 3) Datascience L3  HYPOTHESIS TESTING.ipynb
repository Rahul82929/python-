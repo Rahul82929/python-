{
 "cells": [
  {
   "cell_type": "markdown",
   "id": "1460ba38-4a3a-45bd-b9a6-277c7294083c",
   "metadata": {},
   "source": [
    "# Hypothesis Testing  ( very very important) \n",
    "- It is a part of statistical analysis,where we test the assumptions made regarding a population prameter. it is generally used when we were to compare a single group with an external standard and two or more groups with each other"
   ]
  },
  {
   "cell_type": "markdown",
   "id": "f3ebe8ba-7158-4190-84f9-5d1bc1a22dfb",
   "metadata": {},
   "source": [
    "# Hypothesis testing types \n",
    "- 1) z-Test\n",
    " - 2) T test\n",
    "- 3) chi-square test"
   ]
  },
  {
   "cell_type": "markdown",
   "id": "736c6dbc-86a5-4985-8ab7-ec1ef80d244f",
   "metadata": {},
   "source": [
    "# HYPOTHESIS TESTING (PRATICAL)\n",
    "- Steps of Hypothesis Testing:\n",
    "- state null(H0) and alternative(H1) hypothesis\n",
    "- choose level of significance(a) alpha = 0.05, area under curve = 1\n",
    "- find critical values\n",
    "- Draw your conclusion"
   ]
  },
  {
   "cell_type": "markdown",
   "id": "9f22486b-6b20-4019-81d2-28c5ade64358",
   "metadata": {},
   "source": [
    "- state null(H0) and alternative(H1) hypothesis:\n",
    "- H0 must always contins equality(=). H1 always contains difference(not equal,>,<)"
   ]
  },
  {
   "cell_type": "markdown",
   "id": "9c2948c4-ee87-498f-a00c-05e7ef186346",
   "metadata": {},
   "source": [
    "# choose level of significance(a)\n",
    "- Denoted by alpha or a.it is a fixed probability of wrongly rejecting a True null Hypothesis."
   ]
  },
  {
   "cell_type": "markdown",
   "id": "09832633-d21f-4568-8fdd-701bf4e14490",
   "metadata": {},
   "source": [
    "# Z test \n",
    "- check z test lagega ki nhi\n",
    "- Population ka standard devition chaiye and mean chaiye or no of sample data >30\n",
    "- - Formula, z = x-μ/σ/√n)\n",
    "- x = sample mean\n",
    "- μ = population mean\n",
    "- σ = population standard deviation\n",
    "- n = sample size"
   ]
  },
  {
   "cell_type": "markdown",
   "id": "7e0d05c2-43c0-4204-81dd-c3f1a08d19d3",
   "metadata": {},
   "source": [
    "- Example 1:\n",
    "- A teacher claims that the mean score of students in his class is greater than 82 with a standard devition of 20. if a sample of 81 students was selected with a mean score of 90\n",
    "- prove true or not score greater than 82\n",
    "- Answer:\n",
    "- mean = 82,standrad devition = 20\n",
    "- no of student = 81,  81 student mean = 90\n",
    "- - 1st find H0 and Ha\n",
    "- H0 mean=82(oppose 82 nhi hona chaheye H0 ka kaam h)\n",
    "- Ha bolega , mean > 82\n",
    "- answer is 3.6 )Ha is true (teacher is true )"
   ]
  },
  {
   "cell_type": "code",
   "execution_count": 5,
   "id": "31fd4ce4-9260-4ba5-a23d-da7cca9458b7",
   "metadata": {},
   "outputs": [],
   "source": [
    " import scipy.stats as st                   # scipy=for many constant number found, stats = statatical data\n",
    "import numpy as np"
   ]
  },
  {
   "cell_type": "code",
   "execution_count": 2,
   "id": "73691522-8350-4d05-bc18-4c8d6e82d0f5",
   "metadata": {},
   "outputs": [
    {
     "data": {
      "text/plain": [
       "np.float64(1.6448536269514722)"
      ]
     },
     "execution_count": 2,
     "metadata": {},
     "output_type": "execute_result"
    }
   ],
   "source": [
    "st.norm.ppf(0.95)     # ppf me alpha ka value likho "
   ]
  },
  {
   "cell_type": "code",
   "execution_count": 8,
   "id": "7b2d8828-8866-4c61-91c5-7c92c80f2b04",
   "metadata": {},
   "outputs": [],
   "source": [
    "# another method\n",
    "s_x = 90\n",
    "p_u = 82\n",
    "p_std = 20\n",
    "n = 81\n",
    "ap = 0.05"
   ]
  },
  {
   "cell_type": "code",
   "execution_count": 9,
   "id": "6dd62f9b-b1d7-48c3-8081-7049348da2f9",
   "metadata": {},
   "outputs": [
    {
     "data": {
      "text/plain": [
       "np.float64(3.5999999999999996)"
      ]
     },
     "execution_count": 9,
     "metadata": {},
     "output_type": "execute_result"
    }
   ],
   "source": [
    "z_call = (s_x - p_u)/(p_std/np.sqrt(n))         # np.sqrt(n) = find square root of any number\n",
    "z_call"
   ]
  },
  {
   "cell_type": "code",
   "execution_count": 10,
   "id": "6e50129e-3db5-4a8c-8fd0-c3aebd664981",
   "metadata": {},
   "outputs": [
    {
     "data": {
      "text/plain": [
       "np.float64(1.6448536269514722)"
      ]
     },
     "execution_count": 10,
     "metadata": {},
     "output_type": "execute_result"
    }
   ],
   "source": [
    "z_table = st.norm.ppf(1-ap)\n",
    "z_table"
   ]
  },
  {
   "cell_type": "code",
   "execution_count": 13,
   "id": "06a0cd12-d614-46a8-bda1-38d930bbbd73",
   "metadata": {},
   "outputs": [
    {
     "name": "stdout",
     "output_type": "stream",
     "text": [
      "Ha is right\n"
     ]
    }
   ],
   "source": [
    "if z_table< z_call :\n",
    "    print(\"Ha is right\")\n",
    "else:\n",
    "    print(\"H0 is right\")"
   ]
  },
  {
   "cell_type": "code",
   "execution_count": 2,
   "id": "a7443360-5101-48c4-a38c-6fc452a752c8",
   "metadata": {},
   "outputs": [],
   "source": [
    "import scipy.stats as st                   # scipy=for many constant number found, stats = statatical data\n",
    "import numpy as np"
   ]
  },
  {
   "cell_type": "code",
   "execution_count": null,
   "id": "06f0e3d5-d05e-4d35-b4df-19252ee7a9ec",
   "metadata": {},
   "outputs": [],
   "source": []
  },
  {
   "cell_type": "markdown",
   "id": "d3d24dae-1db9-4722-bd05-c030434fe08c",
   "metadata": {},
   "source": [
    "- Example 2"
   ]
  },
  {
   "cell_type": "code",
   "execution_count": 9,
   "id": "9a30edfa-776c-4a74-924b-f29f800c5aea",
   "metadata": {},
   "outputs": [],
   "source": [
    "old_design_data = np.array([4,3,5,6,7,8,3,9])\n",
    "new_design_data = np.array([9,4,6,3,7,8,4,3])"
   ]
  },
  {
   "cell_type": "code",
   "execution_count": 10,
   "id": "acd15fa6-c193-4271-9ffa-b876e5356ed6",
   "metadata": {},
   "outputs": [],
   "source": [
    "pop_std = 2.5\n",
    "n_sp = len(new_design_data)  # no of sample finding \n",
    "apl = 0.05  #alpha"
   ]
  },
  {
   "cell_type": "markdown",
   "id": "5b063f60-c7bc-4789-aaeb-f12a081073df",
   "metadata": {},
   "source": [
    "mean_new = np.mean(new_design_data)\n",
    "mean_old = np.mean(old_design_data)"
   ]
  },
  {
   "cell_type": "code",
   "execution_count": 13,
   "id": "b8056171-aedb-4937-b3b5-c353e1708276",
   "metadata": {},
   "outputs": [
    {
     "data": {
      "text/plain": [
       "np.float64(0.14142135623730953)"
      ]
     },
     "execution_count": 13,
     "metadata": {},
     "output_type": "execute_result"
    }
   ],
   "source": [
    "z_call = (mean_old-mean_new)/(pop_std/np.sqrt(n_sp))\n",
    "z_call"
   ]
  },
  {
   "cell_type": "code",
   "execution_count": 16,
   "id": "1070b87f-7591-4075-a58d-168782eeaf60",
   "metadata": {},
   "outputs": [
    {
     "data": {
      "text/plain": [
       "np.float64(1.6448536269514722)"
      ]
     },
     "execution_count": 16,
     "metadata": {},
     "output_type": "execute_result"
    }
   ],
   "source": [
    "z_table = st.norm.ppf(1-apl)\n",
    "z_table"
   ]
  },
  {
   "cell_type": "code",
   "execution_count": 23,
   "id": "9f850591-5b80-4d6b-9b16-10f2cfa3b71d",
   "metadata": {},
   "outputs": [
    {
     "name": "stdout",
     "output_type": "stream",
     "text": [
      "ha is right\n"
     ]
    }
   ],
   "source": [
    "if z_call<z_table :\n",
    "      print(\"ha is right\")\n",
    "else:\n",
    "      print(\"h0 is right\")"
   ]
  },
  {
   "cell_type": "markdown",
   "id": "0598b5a9-20c5-4da6-86dc-388d6e36ccaf",
   "metadata": {},
   "source": [
    "# T- test \n",
    "- step to find T-test \n",
    "- 1) population data-mean\n",
    "- 2) sample data-mean,standard deviation\n",
    "- 3) no of sample<30\n",
    "-  t test =  x-μ/s/√n      \n",
    "  = sample mean\n",
    "μ = population mean\n",
    "s = standard deviation of the sample\n",
    "n = sample size. \n"
   ]
  },
  {
   "cell_type": "code",
   "execution_count": 24,
   "id": "297d174d-9f37-4ad3-b64c-4b141432c3da",
   "metadata": {},
   "outputs": [],
   "source": [
    "#ex 1   "
   ]
  },
  {
   "cell_type": "code",
   "execution_count": 25,
   "id": "d7912497-7923-4285-96fc-d0ac57f69226",
   "metadata": {},
   "outputs": [],
   "source": [
    "import scipy.stats as st"
   ]
  },
  {
   "cell_type": "code",
   "execution_count": 27,
   "id": "dbcc7dfc-ebaf-4978-b76d-9eddf9950844",
   "metadata": {},
   "outputs": [
    {
     "data": {
      "text/plain": [
       "np.float64(-1.7108820799094282)"
      ]
     },
     "execution_count": 27,
     "metadata": {},
     "output_type": "execute_result"
    }
   ],
   "source": [
    "t_table = st.t.ppf(0.05,24)    # find  t-test \n",
    "t_table"
   ]
  },
  {
   "cell_type": "code",
   "execution_count": null,
   "id": "a4e07c0d-a79e-41b0-8ae6-78ba327a0b41",
   "metadata": {},
   "outputs": [],
   "source": []
  }
 ],
 "metadata": {
  "kernelspec": {
   "display_name": "Python 3 (ipykernel)",
   "language": "python",
   "name": "python3"
  },
  "language_info": {
   "codemirror_mode": {
    "name": "ipython",
    "version": 3
   },
   "file_extension": ".py",
   "mimetype": "text/x-python",
   "name": "python",
   "nbconvert_exporter": "python",
   "pygments_lexer": "ipython3",
   "version": "3.13.5"
  }
 },
 "nbformat": 4,
 "nbformat_minor": 5
}
