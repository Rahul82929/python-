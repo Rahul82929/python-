{
 "cells": [
  {
   "cell_type": "code",
   "execution_count": 2,
   "id": "17fb7c22-ad6a-46d1-b4c8-f417a5e948ac",
   "metadata": {},
   "outputs": [
    {
     "name": "stderr",
     "output_type": "stream",
     "text": [
      "Access is denied.\n"
     ]
    }
   ],
   "source": [
    "! pip install pandas"
   ]
  },
  {
   "cell_type": "code",
   "execution_count": 3,
   "id": "c5f706c5-b146-4236-bcfe-9f7b3dfd2821",
   "metadata": {},
   "outputs": [],
   "source": [
    "import pandas as pd"
   ]
  },
  {
   "cell_type": "code",
   "execution_count": 4,
   "id": "3b518a62-c35d-4d7b-846c-3751620aa3a4",
   "metadata": {},
   "outputs": [
    {
     "name": "stdout",
     "output_type": "stream",
     "text": [
      "empty series example: Series([], dtype: object)\n"
     ]
    }
   ],
   "source": [
    "# Creating an empty series\n",
    "x = pd.Series()\n",
    "print(\"empty series example:\",x)"
   ]
  },
  {
   "cell_type": "code",
   "execution_count": 5,
   "id": "a68ca97c-300e-4a18-8e84-0318318a52c8",
   "metadata": {},
   "outputs": [
    {
     "name": "stdout",
     "output_type": "stream",
     "text": [
      "0    10\n",
      "1    20\n",
      "2    30\n",
      "3    50\n",
      "dtype: int64\n"
     ]
    }
   ],
   "source": [
    "# series example\n",
    "Series1 = pd.Series([10,20,30,50])\n",
    "print(Series1)"
   ]
  },
  {
   "cell_type": "code",
   "execution_count": 6,
   "id": "395bb661-43bd-4cc6-8565-c3d489463069",
   "metadata": {},
   "outputs": [
    {
     "name": "stdout",
     "output_type": "stream",
     "text": [
      "a    10\n",
      "b    20\n",
      "c    30\n",
      "d    50\n",
      "dtype: int64\n"
     ]
    }
   ],
   "source": [
    "# re-indexing the defultt index column\n",
    "Series2 = pd.Series([10,20,30,50], index=['a','b','c','d'])\n",
    "print(Series2)"
   ]
  },
  {
   "cell_type": "code",
   "execution_count": 7,
   "id": "2fdaa45e-abef-4d53-9b16-5d71b024345a",
   "metadata": {},
   "outputs": [
    {
     "data": {
      "text/plain": [
       "np.int64(20)"
      ]
     },
     "execution_count": 7,
     "metadata": {},
     "output_type": "execute_result"
    }
   ],
   "source": [
    "# accessing a series element\n",
    "Series2['b']"
   ]
  },
  {
   "cell_type": "code",
   "execution_count": 8,
   "id": "272dada1-d8ae-4749-ad89-8333412aa10e",
   "metadata": {},
   "outputs": [
    {
     "name": "stdout",
     "output_type": "stream",
     "text": [
      "adding 5 to a Series: a    15\n",
      "b    25\n",
      "c    35\n",
      "d    55\n",
      "dtype: int64\n"
     ]
    }
   ],
   "source": [
    "# data manipulation with series\n",
    "print(\"adding 5 to a Series:\",Series2 + 5)"
   ]
  },
  {
   "cell_type": "code",
   "execution_count": 9,
   "id": "781228fe-2190-4fd0-9ae1-847bc6cef818",
   "metadata": {},
   "outputs": [
    {
     "name": "stdout",
     "output_type": "stream",
     "text": [
      "filtering series with greater than 30: d    50\n",
      "dtype: int64\n"
     ]
    }
   ],
   "source": [
    "print(\"filtering series with greater than 30:\",Series2[Series2>30])"
   ]
  },
  {
   "cell_type": "code",
   "execution_count": 10,
   "id": "4a29bf61-09ae-4292-bca8-cd5e5fa8f177",
   "metadata": {},
   "outputs": [],
   "source": [
    "import numpy as np"
   ]
  },
  {
   "cell_type": "code",
   "execution_count": 11,
   "id": "823e5671-81f5-4faa-9fef-a01b9f90ed61",
   "metadata": {},
   "outputs": [
    {
     "name": "stdout",
     "output_type": "stream",
     "text": [
      "square root of Series elements: a    3.162278\n",
      "b    4.472136\n",
      "c    5.477226\n",
      "d    7.071068\n",
      "dtype: float64\n"
     ]
    }
   ],
   "source": [
    "print(\"square root of Series elements:\",np.sqrt(Series2))"
   ]
  },
  {
   "cell_type": "code",
   "execution_count": 12,
   "id": "0a389eeb-3162-4567-b95f-50d697888ca8",
   "metadata": {},
   "outputs": [
    {
     "name": "stdout",
     "output_type": "stream",
     "text": [
      "dictionary example: {'abc': 1, 'def': 2, 'ghi': 3}\n"
     ]
    },
    {
     "data": {
      "text/plain": [
       "abc    1\n",
       "def    2\n",
       "ghi    3\n",
       "dtype: int64"
      ]
     },
     "execution_count": 12,
     "metadata": {},
     "output_type": "execute_result"
    }
   ],
   "source": [
    "# a sample dictionary\n",
    "data = {'abc': 1,'def': 2,'ghi': 3}\n",
    "print(\"dictionary example:\",data)\n",
    "# converting dictionary to series\n",
    "pd.Series(data)"
   ]
  },
  {
   "cell_type": "code",
   "execution_count": 13,
   "id": "70aeaab4-7c43-45ff-af13-cb260ca060d2",
   "metadata": {},
   "outputs": [
    {
     "name": "stdout",
     "output_type": "stream",
     "text": [
      "dataframe example: Empty DataFrame\n",
      "Columns: []\n",
      "Index: []\n"
     ]
    }
   ],
   "source": [
    "# creating an empty dataframe\n",
    "df = pd.DataFrame()\n",
    "print(\"dataframe example:\",df)"
   ]
  },
  {
   "cell_type": "code",
   "execution_count": 14,
   "id": "2ff5356e-a87d-49ca-9a6f-9f688a1b14af",
   "metadata": {},
   "outputs": [
    {
     "data": {
      "text/html": [
       "<div>\n",
       "<style scoped>\n",
       "    .dataframe tbody tr th:only-of-type {\n",
       "        vertical-align: middle;\n",
       "    }\n",
       "\n",
       "    .dataframe tbody tr th {\n",
       "        vertical-align: top;\n",
       "    }\n",
       "\n",
       "    .dataframe thead th {\n",
       "        text-align: right;\n",
       "    }\n",
       "</style>\n",
       "<table border=\"1\" class=\"dataframe\">\n",
       "  <thead>\n",
       "    <tr style=\"text-align: right;\">\n",
       "      <th></th>\n",
       "      <th>Name</th>\n",
       "      <th>Age</th>\n",
       "    </tr>\n",
       "  </thead>\n",
       "  <tbody>\n",
       "    <tr>\n",
       "      <th>0</th>\n",
       "      <td>Tom</td>\n",
       "      <td>10</td>\n",
       "    </tr>\n",
       "    <tr>\n",
       "      <th>1</th>\n",
       "      <td>Harry</td>\n",
       "      <td>12</td>\n",
       "    </tr>\n",
       "    <tr>\n",
       "      <th>2</th>\n",
       "      <td>Jim</td>\n",
       "      <td>13</td>\n",
       "    </tr>\n",
       "  </tbody>\n",
       "</table>\n",
       "</div>"
      ],
      "text/plain": [
       "    Name  Age\n",
       "0    Tom   10\n",
       "1  Harry   12\n",
       "2    Jim   13"
      ]
     },
     "execution_count": 14,
     "metadata": {},
     "output_type": "execute_result"
    }
   ],
   "source": [
    "# a sample list containing name and age\n",
    "data = [['Tom',10],['Harry',12],['Jim',13]]\n",
    "# creating a dataframe from given list with column names\n",
    "df = pd.DataFrame(data,columns=['Name','Age'])\n",
    "df"
   ]
  },
  {
   "cell_type": "code",
   "execution_count": 15,
   "id": "b51ab227-6fe1-4762-90b9-efb9c052384a",
   "metadata": {},
   "outputs": [
    {
     "data": {
      "text/plain": [
       "0      Tom\n",
       "1    Harry\n",
       "2      Jim\n",
       "Name: Name, dtype: object"
      ]
     },
     "execution_count": 15,
     "metadata": {},
     "output_type": "execute_result"
    }
   ],
   "source": [
    "# accessing a dataframe column- first way\n",
    "df['Name']"
   ]
  },
  {
   "cell_type": "code",
   "execution_count": 16,
   "id": "e35f72ae-9f46-4534-b14c-06138e5ab6f4",
   "metadata": {},
   "outputs": [
    {
     "data": {
      "text/plain": [
       "0      Tom\n",
       "1    Harry\n",
       "2      Jim\n",
       "Name: Name, dtype: object"
      ]
     },
     "execution_count": 16,
     "metadata": {},
     "output_type": "execute_result"
    }
   ],
   "source": [
    "#accessing a dataframe column-second way\n",
    "df.Name"
   ]
  },
  {
   "cell_type": "code",
   "execution_count": 17,
   "id": "74787834-72c7-4c01-a009-2072ed17ddc0",
   "metadata": {},
   "outputs": [
    {
     "data": {
      "text/html": [
       "<div>\n",
       "<style scoped>\n",
       "    .dataframe tbody tr th:only-of-type {\n",
       "        vertical-align: middle;\n",
       "    }\n",
       "\n",
       "    .dataframe tbody tr th {\n",
       "        vertical-align: top;\n",
       "    }\n",
       "\n",
       "    .dataframe thead th {\n",
       "        text-align: right;\n",
       "    }\n",
       "</style>\n",
       "<table border=\"1\" class=\"dataframe\">\n",
       "  <thead>\n",
       "    <tr style=\"text-align: right;\">\n",
       "      <th></th>\n",
       "      <th>Name</th>\n",
       "      <th>Age</th>\n",
       "      <th>Year</th>\n",
       "    </tr>\n",
       "  </thead>\n",
       "  <tbody>\n",
       "    <tr>\n",
       "      <th>0</th>\n",
       "      <td>Tom</td>\n",
       "      <td>10</td>\n",
       "      <td>2008</td>\n",
       "    </tr>\n",
       "    <tr>\n",
       "      <th>1</th>\n",
       "      <td>Harry</td>\n",
       "      <td>12</td>\n",
       "      <td>2008</td>\n",
       "    </tr>\n",
       "    <tr>\n",
       "      <th>2</th>\n",
       "      <td>Jim</td>\n",
       "      <td>13</td>\n",
       "      <td>2008</td>\n",
       "    </tr>\n",
       "  </tbody>\n",
       "</table>\n",
       "</div>"
      ],
      "text/plain": [
       "    Name  Age  Year\n",
       "0    Tom   10  2008\n",
       "1  Harry   12  2008\n",
       "2    Jim   13  2008"
      ]
     },
     "execution_count": 17,
     "metadata": {},
     "output_type": "execute_result"
    }
   ],
   "source": [
    "# adding a column in existing dataframe\n",
    "df['Year'] = 2008\n",
    "\n",
    "\n",
    "df"
   ]
  },
  {
   "cell_type": "code",
   "execution_count": 18,
   "id": "5b46e228-9e7e-41f0-905d-7eba8f81d781",
   "metadata": {},
   "outputs": [
    {
     "data": {
      "text/html": [
       "<div>\n",
       "<style scoped>\n",
       "    .dataframe tbody tr th:only-of-type {\n",
       "        vertical-align: middle;\n",
       "    }\n",
       "\n",
       "    .dataframe tbody tr th {\n",
       "        vertical-align: top;\n",
       "    }\n",
       "\n",
       "    .dataframe thead th {\n",
       "        text-align: right;\n",
       "    }\n",
       "</style>\n",
       "<table border=\"1\" class=\"dataframe\">\n",
       "  <thead>\n",
       "    <tr style=\"text-align: right;\">\n",
       "      <th></th>\n",
       "      <th>Name</th>\n",
       "      <th>Age</th>\n",
       "      <th>Year</th>\n",
       "      <th>marks</th>\n",
       "    </tr>\n",
       "  </thead>\n",
       "  <tbody>\n",
       "    <tr>\n",
       "      <th>0</th>\n",
       "      <td>Tom</td>\n",
       "      <td>10</td>\n",
       "      <td>2008</td>\n",
       "      <td>80</td>\n",
       "    </tr>\n",
       "    <tr>\n",
       "      <th>1</th>\n",
       "      <td>Harry</td>\n",
       "      <td>12</td>\n",
       "      <td>2008</td>\n",
       "      <td>80</td>\n",
       "    </tr>\n",
       "    <tr>\n",
       "      <th>2</th>\n",
       "      <td>Jim</td>\n",
       "      <td>13</td>\n",
       "      <td>2008</td>\n",
       "      <td>80</td>\n",
       "    </tr>\n",
       "  </tbody>\n",
       "</table>\n",
       "</div>"
      ],
      "text/plain": [
       "    Name  Age  Year  marks\n",
       "0    Tom   10  2008     80\n",
       "1  Harry   12  2008     80\n",
       "2    Jim   13  2008     80"
      ]
     },
     "execution_count": 18,
     "metadata": {},
     "output_type": "execute_result"
    }
   ],
   "source": [
    "df['marks'] = 80\n",
    "df"
   ]
  },
  {
   "cell_type": "code",
   "execution_count": 19,
   "id": "d8133030-7162-4080-8270-94ba527c0877",
   "metadata": {},
   "outputs": [
    {
     "name": "stdout",
     "output_type": "stream",
     "text": [
      "original dataframe:     Name  Age  Year  marks\n",
      "0    Tom   10  2008     80\n",
      "1  Harry   12  2008     80\n",
      "2    Jim   13  2008     80\n"
     ]
    }
   ],
   "source": [
    "print(\"original dataframe:\",df)"
   ]
  },
  {
   "cell_type": "code",
   "execution_count": 20,
   "id": "cdbd4765-d246-4015-9fcd-f71612298bc5",
   "metadata": {},
   "outputs": [
    {
     "name": "stdout",
     "output_type": "stream",
     "text": [
      "dataframe after del:     Name  Age  marks\n",
      "0    Tom   10     80\n",
      "1  Harry   12     80\n",
      "2    Jim   13     80\n"
     ]
    }
   ],
   "source": [
    "del df['Year']\n",
    "print(\"dataframe after del:\",df)"
   ]
  },
  {
   "cell_type": "code",
   "execution_count": 21,
   "id": "ddd0b630-a854-4848-bc29-5344f15a3485",
   "metadata": {},
   "outputs": [
    {
     "name": "stdout",
     "output_type": "stream",
     "text": [
      "dataframe after pop:     Name  marks\n",
      "0    Tom     80\n",
      "1  Harry     80\n",
      "2    Jim     80\n"
     ]
    }
   ],
   "source": [
    "df.pop('Age')\n",
    "print(\"dataframe after pop:\",df)"
   ]
  },
  {
   "cell_type": "markdown",
   "id": "0ea23846-9714-4ac6-bdcf-0eb5c0ca84cf",
   "metadata": {},
   "source": [
    "# .loc and .iloc"
   ]
  },
  {
   "cell_type": "code",
   "execution_count": 23,
   "id": "761ad4e1-4b00-484c-922c-1ab2bcf72c8a",
   "metadata": {},
   "outputs": [
    {
     "data": {
      "text/html": [
       "<div>\n",
       "<style scoped>\n",
       "    .dataframe tbody tr th:only-of-type {\n",
       "        vertical-align: middle;\n",
       "    }\n",
       "\n",
       "    .dataframe tbody tr th {\n",
       "        vertical-align: top;\n",
       "    }\n",
       "\n",
       "    .dataframe thead th {\n",
       "        text-align: right;\n",
       "    }\n",
       "</style>\n",
       "<table border=\"1\" class=\"dataframe\">\n",
       "  <thead>\n",
       "    <tr style=\"text-align: right;\">\n",
       "      <th></th>\n",
       "      <th>price</th>\n",
       "      <th>ticker</th>\n",
       "      <th>Company</th>\n",
       "    </tr>\n",
       "  </thead>\n",
       "  <tbody>\n",
       "    <tr>\n",
       "      <th>0</th>\n",
       "      <td>95</td>\n",
       "      <td>AXP</td>\n",
       "      <td>American Express</td>\n",
       "    </tr>\n",
       "    <tr>\n",
       "      <th>1</th>\n",
       "      <td>25</td>\n",
       "      <td>CSCO</td>\n",
       "      <td>Cisco</td>\n",
       "    </tr>\n",
       "    <tr>\n",
       "      <th>2</th>\n",
       "      <td>85</td>\n",
       "      <td>DIS</td>\n",
       "      <td>Walt Disney</td>\n",
       "    </tr>\n",
       "    <tr>\n",
       "      <th>3</th>\n",
       "      <td>41</td>\n",
       "      <td>MSFT</td>\n",
       "      <td>Microsoft</td>\n",
       "    </tr>\n",
       "  </tbody>\n",
       "</table>\n",
       "</div>"
      ],
      "text/plain": [
       "   price ticker           Company\n",
       "0     95    AXP  American Express\n",
       "1     25   CSCO             Cisco\n",
       "2     85    DIS       Walt Disney\n",
       "3     41   MSFT         Microsoft"
      ]
     },
     "execution_count": 23,
     "metadata": {},
     "output_type": "execute_result"
    }
   ],
   "source": [
    "# a sample dataframe containing company stock data\n",
    "data = pd.DataFrame({'price':[95,25,85,41],'ticker':['AXP','CSCO','DIS','MSFT'],'Company':['American Express','Cisco','Walt Disney','Microsoft']})\n",
    "data"
   ]
  },
  {
   "cell_type": "code",
   "execution_count": 24,
   "id": "e5d5eb30-e791-4054-a8fc-c585eadd32b6",
   "metadata": {},
   "outputs": [
    {
     "name": "stdout",
     "output_type": "stream",
     "text": [
      "American Express\n"
     ]
    }
   ],
   "source": [
    "# access the value that is at index 0,in column 'Company' using loc\n",
    "print(data.loc[0]['Company'])"
   ]
  },
  {
   "cell_type": "code",
   "execution_count": 25,
   "id": "4c37ab5f-a084-405c-ac05-fab35681424a",
   "metadata": {},
   "outputs": [
    {
     "name": "stdout",
     "output_type": "stream",
     "text": [
      "95\n"
     ]
    },
    {
     "name": "stderr",
     "output_type": "stream",
     "text": [
      "C:\\Users\\AUSU\\AppData\\Local\\Temp\\ipykernel_9484\\3404237754.py:2: FutureWarning: Series.__getitem__ treating keys as positions is deprecated. In a future version, integer keys will always be treated as labels (consistent with DataFrame behavior). To access a value by position, use `ser.iloc[pos]`\n",
      "  print(data.loc[0][0])\n"
     ]
    }
   ],
   "source": [
    "# access the value that is at index 0, in column \"company\" using iloc \n",
    "print(data.loc[0][0])"
   ]
  },
  {
   "cell_type": "markdown",
   "id": "045ad940-b4b6-4b97-bbef-a19caffe4b76",
   "metadata": {},
   "source": [
    "# Dataframe functions"
   ]
  },
  {
   "cell_type": "code",
   "execution_count": 41,
   "id": "4ed5b207-fe40-4d00-a72d-ec7ec1e4899a",
   "metadata": {},
   "outputs": [
    {
     "name": "stdout",
     "output_type": "stream",
     "text": [
      "top five data:    price ticker           Company\n",
      "0     95    AXP  American Express\n",
      "1     25   CSCO             Cisco\n",
      "2     85    DIS       Walt Disney\n",
      "3     41   MSFT         Microsoft\n"
     ]
    }
   ],
   "source": [
    "# inspecting top 5 rows of a dataframe\n",
    "print(\"top five data:\",data.head())"
   ]
  },
  {
   "cell_type": "code",
   "execution_count": 28,
   "id": "baff2a3c-178e-421c-8fdc-aa43cc6a92f2",
   "metadata": {},
   "outputs": [
    {
     "name": "stdout",
     "output_type": "stream",
     "text": [
      "below 5 data:    price ticker           Company\n",
      "0     95    AXP  American Express\n",
      "1     25   CSCO             Cisco\n",
      "2     85    DIS       Walt Disney\n",
      "3     41   MSFT         Microsoft\n"
     ]
    }
   ],
   "source": [
    "# inspecting below 5 rows of a dataframe\n",
    "print(\"below 5 data:\",data.tail())"
   ]
  },
  {
   "cell_type": "code",
   "execution_count": 29,
   "id": "42043aa2-c45d-40ba-b3e1-cc5bb90c835f",
   "metadata": {},
   "outputs": [
    {
     "data": {
      "text/plain": [
       "price       int64\n",
       "ticker     object\n",
       "Company    object\n",
       "dtype: object"
      ]
     },
     "execution_count": 29,
     "metadata": {},
     "output_type": "execute_result"
    }
   ],
   "source": [
    "# check data type of columns\n",
    "data.dtypes"
   ]
  },
  {
   "cell_type": "code",
   "execution_count": 30,
   "id": "eac6d94f-6428-4f63-9331-3a491c57b885",
   "metadata": {},
   "outputs": [
    {
     "data": {
      "text/html": [
       "<div>\n",
       "<style scoped>\n",
       "    .dataframe tbody tr th:only-of-type {\n",
       "        vertical-align: middle;\n",
       "    }\n",
       "\n",
       "    .dataframe tbody tr th {\n",
       "        vertical-align: top;\n",
       "    }\n",
       "\n",
       "    .dataframe thead th {\n",
       "        text-align: right;\n",
       "    }\n",
       "</style>\n",
       "<table border=\"1\" class=\"dataframe\">\n",
       "  <thead>\n",
       "    <tr style=\"text-align: right;\">\n",
       "      <th></th>\n",
       "      <th>price</th>\n",
       "    </tr>\n",
       "  </thead>\n",
       "  <tbody>\n",
       "    <tr>\n",
       "      <th>count</th>\n",
       "      <td>4.000000</td>\n",
       "    </tr>\n",
       "    <tr>\n",
       "      <th>mean</th>\n",
       "      <td>61.500000</td>\n",
       "    </tr>\n",
       "    <tr>\n",
       "      <th>std</th>\n",
       "      <td>33.798422</td>\n",
       "    </tr>\n",
       "    <tr>\n",
       "      <th>min</th>\n",
       "      <td>25.000000</td>\n",
       "    </tr>\n",
       "    <tr>\n",
       "      <th>25%</th>\n",
       "      <td>37.000000</td>\n",
       "    </tr>\n",
       "    <tr>\n",
       "      <th>50%</th>\n",
       "      <td>63.000000</td>\n",
       "    </tr>\n",
       "    <tr>\n",
       "      <th>75%</th>\n",
       "      <td>87.500000</td>\n",
       "    </tr>\n",
       "    <tr>\n",
       "      <th>max</th>\n",
       "      <td>95.000000</td>\n",
       "    </tr>\n",
       "  </tbody>\n",
       "</table>\n",
       "</div>"
      ],
      "text/plain": [
       "           price\n",
       "count   4.000000\n",
       "mean   61.500000\n",
       "std    33.798422\n",
       "min    25.000000\n",
       "25%    37.000000\n",
       "50%    63.000000\n",
       "75%    87.500000\n",
       "max    95.000000"
      ]
     },
     "execution_count": 30,
     "metadata": {},
     "output_type": "execute_result"
    }
   ],
   "source": [
    "# descriptive statistics of the data\n",
    "data.describe()      "
   ]
  },
  {
   "cell_type": "code",
   "execution_count": 31,
   "id": "11ff9aa3-bf94-4c3b-ab57-11c89843433b",
   "metadata": {},
   "outputs": [
    {
     "name": "stdout",
     "output_type": "stream",
     "text": [
      "<class 'pandas.core.frame.DataFrame'>\n",
      "RangeIndex: 4 entries, 0 to 3\n",
      "Data columns (total 3 columns):\n",
      " #   Column   Non-Null Count  Dtype \n",
      "---  ------   --------------  ----- \n",
      " 0   price    4 non-null      int64 \n",
      " 1   ticker   4 non-null      object\n",
      " 2   Company  4 non-null      object\n",
      "dtypes: int64(1), object(2)\n",
      "memory usage: 228.0+ bytes\n"
     ]
    }
   ],
   "source": [
    "# information of dataframe\n",
    "data.info()"
   ]
  },
  {
   "cell_type": "code",
   "execution_count": 32,
   "id": "4759b10b-0241-4090-818d-d0dad6f10cd9",
   "metadata": {},
   "outputs": [],
   "source": [
    "import numpy as np"
   ]
  },
  {
   "cell_type": "code",
   "execution_count": 33,
   "id": "e90e62d0-d0b1-4007-bef0-9f1a1ff0415f",
   "metadata": {},
   "outputs": [],
   "source": [
    "# Handling missing values in dataframe"
   ]
  },
  {
   "cell_type": "code",
   "execution_count": 54,
   "id": "5a4a134b-c373-485a-a9a0-35621501fea7",
   "metadata": {},
   "outputs": [
    {
     "data": {
      "text/html": [
       "<div>\n",
       "<style scoped>\n",
       "    .dataframe tbody tr th:only-of-type {\n",
       "        vertical-align: middle;\n",
       "    }\n",
       "\n",
       "    .dataframe tbody tr th {\n",
       "        vertical-align: top;\n",
       "    }\n",
       "\n",
       "    .dataframe thead th {\n",
       "        text-align: right;\n",
       "    }\n",
       "</style>\n",
       "<table border=\"1\" class=\"dataframe\">\n",
       "  <thead>\n",
       "    <tr style=\"text-align: right;\">\n",
       "      <th></th>\n",
       "      <th>one</th>\n",
       "      <th>two</th>\n",
       "      <th>three</th>\n",
       "    </tr>\n",
       "  </thead>\n",
       "  <tbody>\n",
       "    <tr>\n",
       "      <th>a</th>\n",
       "      <td>0.593409</td>\n",
       "      <td>1.329270</td>\n",
       "      <td>0.008051</td>\n",
       "    </tr>\n",
       "    <tr>\n",
       "      <th>b</th>\n",
       "      <td>NaN</td>\n",
       "      <td>NaN</td>\n",
       "      <td>NaN</td>\n",
       "    </tr>\n",
       "    <tr>\n",
       "      <th>c</th>\n",
       "      <td>0.242751</td>\n",
       "      <td>-1.058028</td>\n",
       "      <td>0.787415</td>\n",
       "    </tr>\n",
       "    <tr>\n",
       "      <th>d</th>\n",
       "      <td>NaN</td>\n",
       "      <td>NaN</td>\n",
       "      <td>NaN</td>\n",
       "    </tr>\n",
       "    <tr>\n",
       "      <th>e</th>\n",
       "      <td>0.425333</td>\n",
       "      <td>-0.317723</td>\n",
       "      <td>-1.846370</td>\n",
       "    </tr>\n",
       "    <tr>\n",
       "      <th>f</th>\n",
       "      <td>-0.657084</td>\n",
       "      <td>-0.176961</td>\n",
       "      <td>-1.285213</td>\n",
       "    </tr>\n",
       "    <tr>\n",
       "      <th>g</th>\n",
       "      <td>NaN</td>\n",
       "      <td>NaN</td>\n",
       "      <td>NaN</td>\n",
       "    </tr>\n",
       "    <tr>\n",
       "      <th>h</th>\n",
       "      <td>-0.186097</td>\n",
       "      <td>0.804256</td>\n",
       "      <td>0.449399</td>\n",
       "    </tr>\n",
       "  </tbody>\n",
       "</table>\n",
       "</div>"
      ],
      "text/plain": [
       "        one       two     three\n",
       "a  0.593409  1.329270  0.008051\n",
       "b       NaN       NaN       NaN\n",
       "c  0.242751 -1.058028  0.787415\n",
       "d       NaN       NaN       NaN\n",
       "e  0.425333 -0.317723 -1.846370\n",
       "f -0.657084 -0.176961 -1.285213\n",
       "g       NaN       NaN       NaN\n",
       "h -0.186097  0.804256  0.449399"
      ]
     },
     "execution_count": 54,
     "metadata": {},
     "output_type": "execute_result"
    }
   ],
   "source": [
    "# a sample dataframe\n",
    "df = pd.DataFrame(np.random.randn(5,3),index=['a','c','e','f','h'],columns=['one','two','three'])\n",
    "# creating a data with missing values by reindexing\n",
    "df2 = df.reindex(['a','b','c','d','e','f','g','h'])\n",
    "df2"
   ]
  },
  {
   "cell_type": "code",
   "execution_count": 55,
   "id": "5ac8641b-c27f-4595-a307-f442b2375944",
   "metadata": {},
   "outputs": [
    {
     "name": "stdout",
     "output_type": "stream",
     "text": [
      "     one    two  three\n",
      "a  False  False  False\n",
      "b   True   True   True\n",
      "c  False  False  False\n",
      "d   True   True   True\n",
      "e  False  False  False\n",
      "f  False  False  False\n",
      "g   True   True   True\n",
      "h  False  False  False\n",
      "count of missing values: one      3\n",
      "two      3\n",
      "three    3\n",
      "dtype: int64\n"
     ]
    }
   ],
   "source": [
    "# checking missing values using isnull()\n",
    "print(df2.isnull())\n",
    "missing_values_count = df2.isnull().sum()\n",
    "print(\"count of missing values:\",missing_values_count)"
   ]
  },
  {
   "cell_type": "code",
   "execution_count": 56,
   "id": "4e7617ce-e281-4dac-901e-48ebe9318d98",
   "metadata": {},
   "outputs": [
    {
     "name": "stdout",
     "output_type": "stream",
     "text": [
      "        one       two     three\n",
      "a  0.593409  1.329270  0.008051\n",
      "c  0.242751 -1.058028  0.787415\n",
      "e  0.425333 -0.317723 -1.846370\n",
      "f -0.657084 -0.176961 -1.285213\n",
      "h -0.186097  0.804256  0.449399\n"
     ]
    }
   ],
   "source": [
    "# remove all the rows that contain a missing value\n",
    "df2 = df2.dropna()\n",
    "print(df2)"
   ]
  },
  {
   "cell_type": "code",
   "execution_count": 57,
   "id": "dd924471-c80a-453a-bd56-ac1945eb121c",
   "metadata": {},
   "outputs": [
    {
     "data": {
      "text/html": [
       "<div>\n",
       "<style scoped>\n",
       "    .dataframe tbody tr th:only-of-type {\n",
       "        vertical-align: middle;\n",
       "    }\n",
       "\n",
       "    .dataframe tbody tr th {\n",
       "        vertical-align: top;\n",
       "    }\n",
       "\n",
       "    .dataframe thead th {\n",
       "        text-align: right;\n",
       "    }\n",
       "</style>\n",
       "<table border=\"1\" class=\"dataframe\">\n",
       "  <thead>\n",
       "    <tr style=\"text-align: right;\">\n",
       "      <th></th>\n",
       "      <th>one</th>\n",
       "      <th>two</th>\n",
       "      <th>three</th>\n",
       "    </tr>\n",
       "  </thead>\n",
       "  <tbody>\n",
       "    <tr>\n",
       "      <th>a</th>\n",
       "      <td>0.593409</td>\n",
       "      <td>1.329270</td>\n",
       "      <td>0.008051</td>\n",
       "    </tr>\n",
       "    <tr>\n",
       "      <th>c</th>\n",
       "      <td>0.242751</td>\n",
       "      <td>-1.058028</td>\n",
       "      <td>0.787415</td>\n",
       "    </tr>\n",
       "    <tr>\n",
       "      <th>e</th>\n",
       "      <td>0.425333</td>\n",
       "      <td>-0.317723</td>\n",
       "      <td>-1.846370</td>\n",
       "    </tr>\n",
       "    <tr>\n",
       "      <th>f</th>\n",
       "      <td>-0.657084</td>\n",
       "      <td>-0.176961</td>\n",
       "      <td>-1.285213</td>\n",
       "    </tr>\n",
       "    <tr>\n",
       "      <th>h</th>\n",
       "      <td>-0.186097</td>\n",
       "      <td>0.804256</td>\n",
       "      <td>0.449399</td>\n",
       "    </tr>\n",
       "  </tbody>\n",
       "</table>\n",
       "</div>"
      ],
      "text/plain": [
       "        one       two     three\n",
       "a  0.593409  1.329270  0.008051\n",
       "c  0.242751 -1.058028  0.787415\n",
       "e  0.425333 -0.317723 -1.846370\n",
       "f -0.657084 -0.176961 -1.285213\n",
       "h -0.186097  0.804256  0.449399"
      ]
     },
     "execution_count": 57,
     "metadata": {},
     "output_type": "execute_result"
    }
   ],
   "source": [
    "# remove all columns with at least one missing value\n",
    "columns_with_na_dropped = df2.dropna(axis=1)\n",
    "columns_with_na_dropped.head()"
   ]
  },
  {
   "cell_type": "code",
   "execution_count": 58,
   "id": "e5c044ac-fb9b-44db-bb14-02999861a505",
   "metadata": {},
   "outputs": [
    {
     "data": {
      "text/html": [
       "<div>\n",
       "<style scoped>\n",
       "    .dataframe tbody tr th:only-of-type {\n",
       "        vertical-align: middle;\n",
       "    }\n",
       "\n",
       "    .dataframe tbody tr th {\n",
       "        vertical-align: top;\n",
       "    }\n",
       "\n",
       "    .dataframe thead th {\n",
       "        text-align: right;\n",
       "    }\n",
       "</style>\n",
       "<table border=\"1\" class=\"dataframe\">\n",
       "  <thead>\n",
       "    <tr style=\"text-align: right;\">\n",
       "      <th></th>\n",
       "      <th>one</th>\n",
       "      <th>two</th>\n",
       "      <th>three</th>\n",
       "    </tr>\n",
       "  </thead>\n",
       "  <tbody>\n",
       "    <tr>\n",
       "      <th>a</th>\n",
       "      <td>0.593409</td>\n",
       "      <td>1.329270</td>\n",
       "      <td>0.008051</td>\n",
       "    </tr>\n",
       "    <tr>\n",
       "      <th>c</th>\n",
       "      <td>0.242751</td>\n",
       "      <td>-1.058028</td>\n",
       "      <td>0.787415</td>\n",
       "    </tr>\n",
       "    <tr>\n",
       "      <th>e</th>\n",
       "      <td>0.425333</td>\n",
       "      <td>-0.317723</td>\n",
       "      <td>-1.846370</td>\n",
       "    </tr>\n",
       "    <tr>\n",
       "      <th>f</th>\n",
       "      <td>-0.657084</td>\n",
       "      <td>-0.176961</td>\n",
       "      <td>-1.285213</td>\n",
       "    </tr>\n",
       "    <tr>\n",
       "      <th>h</th>\n",
       "      <td>-0.186097</td>\n",
       "      <td>0.804256</td>\n",
       "      <td>0.449399</td>\n",
       "    </tr>\n",
       "  </tbody>\n",
       "</table>\n",
       "</div>"
      ],
      "text/plain": [
       "        one       two     three\n",
       "a  0.593409  1.329270  0.008051\n",
       "c  0.242751 -1.058028  0.787415\n",
       "e  0.425333 -0.317723 -1.846370\n",
       "f -0.657084 -0.176961 -1.285213\n",
       "h -0.186097  0.804256  0.449399"
      ]
     },
     "execution_count": 58,
     "metadata": {},
     "output_type": "execute_result"
    }
   ],
   "source": [
    "# filling NAN with zeros\n",
    "df3 = df2.fillna(0)\n",
    "df3"
   ]
  },
  {
   "cell_type": "code",
   "execution_count": 59,
   "id": "46dd3d3b-8c0b-45e4-aa8e-5858046aaafa",
   "metadata": {},
   "outputs": [
    {
     "name": "stderr",
     "output_type": "stream",
     "text": [
      "C:\\Users\\AUSU\\AppData\\Local\\Temp\\ipykernel_9484\\1265575388.py:3: FutureWarning: DataFrame.fillna with 'method' is deprecated and will raise in a future version. Use obj.ffill() or obj.bfill() instead.\n",
      "  df4 = df2.fillna(method = 'bfill',axis=0).fillna(0)\n"
     ]
    },
    {
     "data": {
      "text/html": [
       "<div>\n",
       "<style scoped>\n",
       "    .dataframe tbody tr th:only-of-type {\n",
       "        vertical-align: middle;\n",
       "    }\n",
       "\n",
       "    .dataframe tbody tr th {\n",
       "        vertical-align: top;\n",
       "    }\n",
       "\n",
       "    .dataframe thead th {\n",
       "        text-align: right;\n",
       "    }\n",
       "</style>\n",
       "<table border=\"1\" class=\"dataframe\">\n",
       "  <thead>\n",
       "    <tr style=\"text-align: right;\">\n",
       "      <th></th>\n",
       "      <th>one</th>\n",
       "      <th>two</th>\n",
       "      <th>three</th>\n",
       "    </tr>\n",
       "  </thead>\n",
       "  <tbody>\n",
       "    <tr>\n",
       "      <th>a</th>\n",
       "      <td>0.593409</td>\n",
       "      <td>1.329270</td>\n",
       "      <td>0.008051</td>\n",
       "    </tr>\n",
       "    <tr>\n",
       "      <th>c</th>\n",
       "      <td>0.242751</td>\n",
       "      <td>-1.058028</td>\n",
       "      <td>0.787415</td>\n",
       "    </tr>\n",
       "    <tr>\n",
       "      <th>e</th>\n",
       "      <td>0.425333</td>\n",
       "      <td>-0.317723</td>\n",
       "      <td>-1.846370</td>\n",
       "    </tr>\n",
       "    <tr>\n",
       "      <th>f</th>\n",
       "      <td>-0.657084</td>\n",
       "      <td>-0.176961</td>\n",
       "      <td>-1.285213</td>\n",
       "    </tr>\n",
       "    <tr>\n",
       "      <th>h</th>\n",
       "      <td>-0.186097</td>\n",
       "      <td>0.804256</td>\n",
       "      <td>0.449399</td>\n",
       "    </tr>\n",
       "  </tbody>\n",
       "</table>\n",
       "</div>"
      ],
      "text/plain": [
       "        one       two     three\n",
       "a  0.593409  1.329270  0.008051\n",
       "c  0.242751 -1.058028  0.787415\n",
       "e  0.425333 -0.317723 -1.846370\n",
       "f -0.657084 -0.176961 -1.285213\n",
       "h -0.186097  0.804256  0.449399"
      ]
     },
     "execution_count": 59,
     "metadata": {},
     "output_type": "execute_result"
    }
   ],
   "source": [
    "# replace all NA's the value that comes directly after it in the same column\n",
    "# then replace all the reamining na's with 0\n",
    "df4 = df2.fillna(method = 'bfill',axis=0).fillna(0)\n",
    "df4"
   ]
  },
  {
   "cell_type": "code",
   "execution_count": null,
   "id": "b83d0114-f17d-4e92-8a1a-1fdf517e458c",
   "metadata": {},
   "outputs": [],
   "source": []
  },
  {
   "cell_type": "code",
   "execution_count": null,
   "id": "3062e618-b117-4243-91a3-0ffb11779cf8",
   "metadata": {},
   "outputs": [],
   "source": []
  }
 ],
 "metadata": {
  "kernelspec": {
   "display_name": "Python 3 (ipykernel)",
   "language": "python",
   "name": "python3"
  },
  "language_info": {
   "codemirror_mode": {
    "name": "ipython",
    "version": 3
   },
   "file_extension": ".py",
   "mimetype": "text/x-python",
   "name": "python",
   "nbconvert_exporter": "python",
   "pygments_lexer": "ipython3",
   "version": "3.13.5"
  }
 },
 "nbformat": 4,
 "nbformat_minor": 5
}
