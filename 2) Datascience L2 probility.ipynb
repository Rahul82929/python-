{
 "cells": [
  {
   "cell_type": "markdown",
   "id": "b4ea9cdb-35f5-4738-af5e-a35b71c6bd1c",
   "metadata": {},
   "source": [
    "# Probaility"
   ]
  },
  {
   "cell_type": "markdown",
   "id": "23fa4c22-358a-4411-8c30-c4d4f618b4a7",
   "metadata": {},
   "source": [
    "# Random variable"
   ]
  },
  {
   "cell_type": "markdown",
   "id": "059da3a6-b06c-46ba-b33b-ee1d4ec96e91",
   "metadata": {},
   "source": [
    "discreate random variable :A random variable X is a function that assigns a real number to each outcome in the sample space of a random experiment. ex {1,2,3,4,5}"
   ]
  },
  {
   "cell_type": "markdown",
   "id": "2b1d85e5-0573-4407-be15-878f5efea2a2",
   "metadata": {},
   "source": [
    "continuous random variable: A random variable that can take on any value within a given range or interval  ,  ex (range me my company empoly age 20 to 70)"
   ]
  },
  {
   "cell_type": "markdown",
   "id": "45c5fe85-63bf-485d-b2e9-cfbbe9c0562f",
   "metadata": {},
   "source": [
    "probaility\n",
    "- p(A) = number of times A occurs/Total number of possible outcomes\n",
    "- example dice (4 comes probaility) P(A)=1/6"
   ]
  },
  {
   "cell_type": "markdown",
   "id": "893ddbdc-667c-4c55-b951-b7b57c5a9d46",
   "metadata": {},
   "source": [
    "# Probility distribution/normal distribution\n",
    "- probility distributions describe how the probility of different outcomes are distributed over the sample space of a random variable.\n",
    "- Discreate probability distribution\n",
    "- continuous probability distributions"
   ]
  },
  {
   "cell_type": "markdown",
   "id": "1cdf00e5-5f03-4cad-aea1-29da75907a12",
   "metadata": {},
   "source": [
    "# Probability distribution function\n",
    "- A probability distribution is the mathematics function that gives the probability of occurrence of different possible outcomes for an experiment\n",
    "- three types : 1) PDF(probability distribution function  ,2) PMF(probability mass function, 3)CDF (cummulative density function"
   ]
  },
  {
   "cell_type": "markdown",
   "id": "329d07ae-1bab-46fb-830e-950d2cba5116",
   "metadata": {},
   "source": [
    "# Normal distribution \n",
    "- it known as the gaussian distribution,is a probability distribution that is symmetric about the mean ,showing that data near the mean are more frequent in occurrence than data far from the mean . in graph form, normal distribution will appear as a bell curve  \n",
    "- mean median mode is same\n",
    "- [ f(x) = \\frac{1}{\\sigma \\sqrt{2\\pi}} e\\^{-\\frac{(x - \\mu)\\^2}{2\\sigma\\^2}} \\]\n",
    "- where:\n",
    "- μ is the mean of the distribution,\n",
    "- σ is the standard deviation,\n",
    "- e is the base of the natural logarithm, and\n",
    "- x is the variable for which you are calculating the probability dens"
   ]
  },
  {
   "cell_type": "markdown",
   "id": "c3433f9b-772e-49ea-b127-7da459f6ba52",
   "metadata": {},
   "source": [
    "# Standard normal distribution\n",
    "- The standard normal distribution also know as the z distribution or z scrore is a special case of the normal distribution\n",
    "- mean(u) of 0 and standard deviation (sigma) of 1\n",
    "\n",
    "            Z = (x - μ) / σ\n",
    "      where:\n",
    "- Z is the Z-score,\n",
    "- x is the value from the normal distribution,\n",
    "- μ is the mean of the distribution, and\n",
    "- σ is standard devition of distribution"
   ]
  },
  {
   "cell_type": "markdown",
   "id": "0f9a2026-e295-47f9-bdbd-f7c4c3b4d006",
   "metadata": {},
   "source": [
    "# Covariance\n",
    "- covariance signifies the direction of the linear relationship b\\w the two variables. By direction  we mean if the variables are directly proportional or inversly proportinal to each other\n",
    "- (increasing the value of one variable might have a positive or a negative impact on the value of the other variable).\n",
    "\n",
    "Cov(X, Y) = Σ((xi - x̄)(yi - ȳ)) / (N - 1)"
   ]
  },
  {
   "cell_type": "markdown",
   "id": "41b874ff-ac37-41fb-a884-fc3f39205645",
   "metadata": {},
   "source": [
    "# Correlation \n",
    "- correlation analysis is a method of statistical evalution used to study the strength of a relationship b\\w two,numerically measured,continuous variables\n",
    "\n",
    "           correlation = Cov(X,Y)/σ x * σ y\n",
    "\n",
    "- where:\n",
    "- cov is this covariance\n",
    "- sigma x is the standard devition of X\n",
    "- sigma y is the standard devition of Y"
   ]
  },
  {
   "cell_type": "code",
   "execution_count": 2,
   "id": "b5a20b4b-78eb-4070-b013-5b9ac4035a79",
   "metadata": {},
   "outputs": [],
   "source": [
    "import numpy as np \n",
    "import pandas as pd\n",
    "import matplotlib.pyplot as plt   # for graph\n",
    "import seaborn as sns   # for adavance graph "
   ]
  },
  {
   "cell_type": "code",
   "execution_count": 3,
   "id": "ceb31881-d0b5-44a5-96d3-0c879432a76c",
   "metadata": {},
   "outputs": [
    {
     "data": {
      "text/html": [
       "<div>\n",
       "<style scoped>\n",
       "    .dataframe tbody tr th:only-of-type {\n",
       "        vertical-align: middle;\n",
       "    }\n",
       "\n",
       "    .dataframe tbody tr th {\n",
       "        vertical-align: top;\n",
       "    }\n",
       "\n",
       "    .dataframe thead th {\n",
       "        text-align: right;\n",
       "    }\n",
       "</style>\n",
       "<table border=\"1\" class=\"dataframe\">\n",
       "  <thead>\n",
       "    <tr style=\"text-align: right;\">\n",
       "      <th></th>\n",
       "      <th>total_bill</th>\n",
       "      <th>tip</th>\n",
       "      <th>sex</th>\n",
       "      <th>smoker</th>\n",
       "      <th>day</th>\n",
       "      <th>time</th>\n",
       "      <th>size</th>\n",
       "    </tr>\n",
       "  </thead>\n",
       "  <tbody>\n",
       "    <tr>\n",
       "      <th>0</th>\n",
       "      <td>16.99</td>\n",
       "      <td>1.01</td>\n",
       "      <td>Female</td>\n",
       "      <td>No</td>\n",
       "      <td>Sun</td>\n",
       "      <td>Dinner</td>\n",
       "      <td>2</td>\n",
       "    </tr>\n",
       "    <tr>\n",
       "      <th>1</th>\n",
       "      <td>10.34</td>\n",
       "      <td>1.66</td>\n",
       "      <td>Male</td>\n",
       "      <td>No</td>\n",
       "      <td>Sun</td>\n",
       "      <td>Dinner</td>\n",
       "      <td>3</td>\n",
       "    </tr>\n",
       "    <tr>\n",
       "      <th>2</th>\n",
       "      <td>21.01</td>\n",
       "      <td>3.50</td>\n",
       "      <td>Male</td>\n",
       "      <td>No</td>\n",
       "      <td>Sun</td>\n",
       "      <td>Dinner</td>\n",
       "      <td>3</td>\n",
       "    </tr>\n",
       "    <tr>\n",
       "      <th>3</th>\n",
       "      <td>23.68</td>\n",
       "      <td>3.31</td>\n",
       "      <td>Male</td>\n",
       "      <td>No</td>\n",
       "      <td>Sun</td>\n",
       "      <td>Dinner</td>\n",
       "      <td>2</td>\n",
       "    </tr>\n",
       "  </tbody>\n",
       "</table>\n",
       "</div>"
      ],
      "text/plain": [
       "   total_bill   tip     sex smoker  day    time  size\n",
       "0       16.99  1.01  Female     No  Sun  Dinner     2\n",
       "1       10.34  1.66    Male     No  Sun  Dinner     3\n",
       "2       21.01  3.50    Male     No  Sun  Dinner     3\n",
       "3       23.68  3.31    Male     No  Sun  Dinner     2"
      ]
     },
     "execution_count": 3,
     "metadata": {},
     "output_type": "execute_result"
    }
   ],
   "source": [
    "dataset = pd.read_csv(r\"C:\\Users\\AUSU\\Downloads\\tips.csv\")\n",
    "dataset.head(4)"
   ]
  },
  {
   "cell_type": "code",
   "execution_count": 7,
   "id": "20fd9b7e-991f-4ee3-b29b-830753978925",
   "metadata": {},
   "outputs": [
    {
     "data": {
      "text/plain": [
       "total_bill    0\n",
       "tip           0\n",
       "sex           0\n",
       "smoker        0\n",
       "day           0\n",
       "time          0\n",
       "size          0\n",
       "dtype: int64"
      ]
     },
     "execution_count": 7,
     "metadata": {},
     "output_type": "execute_result"
    }
   ],
   "source": [
    "dataset.isnull().sum()"
   ]
  },
  {
   "cell_type": "code",
   "execution_count": 8,
   "id": "6624e5a2-1046-420b-8389-22ea4a08a917",
   "metadata": {},
   "outputs": [
    {
     "name": "stdout",
     "output_type": "stream",
     "text": [
      "<class 'pandas.core.frame.DataFrame'>\n",
      "RangeIndex: 244 entries, 0 to 243\n",
      "Data columns (total 7 columns):\n",
      " #   Column      Non-Null Count  Dtype  \n",
      "---  ------      --------------  -----  \n",
      " 0   total_bill  244 non-null    float64\n",
      " 1   tip         244 non-null    float64\n",
      " 2   sex         244 non-null    object \n",
      " 3   smoker      244 non-null    object \n",
      " 4   day         244 non-null    object \n",
      " 5   time        244 non-null    object \n",
      " 6   size        244 non-null    int64  \n",
      "dtypes: float64(2), int64(1), object(4)\n",
      "memory usage: 13.5+ KB\n"
     ]
    }
   ],
   "source": [
    "dataset.info()"
   ]
  },
  {
   "cell_type": "code",
   "execution_count": 15,
   "id": "3c73a5a4-0a24-4f00-b5d8-8aade3835aaf",
   "metadata": {},
   "outputs": [
    {
     "data": {
      "text/html": [
       "<div>\n",
       "<style scoped>\n",
       "    .dataframe tbody tr th:only-of-type {\n",
       "        vertical-align: middle;\n",
       "    }\n",
       "\n",
       "    .dataframe tbody tr th {\n",
       "        vertical-align: top;\n",
       "    }\n",
       "\n",
       "    .dataframe thead th {\n",
       "        text-align: right;\n",
       "    }\n",
       "</style>\n",
       "<table border=\"1\" class=\"dataframe\">\n",
       "  <thead>\n",
       "    <tr style=\"text-align: right;\">\n",
       "      <th></th>\n",
       "      <th>total_bill</th>\n",
       "      <th>tip</th>\n",
       "      <th>size</th>\n",
       "    </tr>\n",
       "  </thead>\n",
       "  <tbody>\n",
       "    <tr>\n",
       "      <th>total_bill</th>\n",
       "      <td>1.000000</td>\n",
       "      <td>0.675734</td>\n",
       "      <td>0.598315</td>\n",
       "    </tr>\n",
       "    <tr>\n",
       "      <th>tip</th>\n",
       "      <td>0.675734</td>\n",
       "      <td>1.000000</td>\n",
       "      <td>0.489299</td>\n",
       "    </tr>\n",
       "    <tr>\n",
       "      <th>size</th>\n",
       "      <td>0.598315</td>\n",
       "      <td>0.489299</td>\n",
       "      <td>1.000000</td>\n",
       "    </tr>\n",
       "  </tbody>\n",
       "</table>\n",
       "</div>"
      ],
      "text/plain": [
       "            total_bill       tip      size\n",
       "total_bill    1.000000  0.675734  0.598315\n",
       "tip           0.675734  1.000000  0.489299\n",
       "size          0.598315  0.489299  1.000000"
      ]
     },
     "execution_count": 15,
     "metadata": {},
     "output_type": "execute_result"
    }
   ],
   "source": [
    "# correlation\n",
    "data_corr = dataset.select_dtypes([\"Float64\",\"int64\"]).corr()\n",
    "data_corr"
   ]
  },
  {
   "cell_type": "code",
   "execution_count": 16,
   "id": "73b0514e-39d2-439a-8622-bdbf6190c47e",
   "metadata": {},
   "outputs": [
    {
     "data": {
      "text/html": [
       "<div>\n",
       "<style scoped>\n",
       "    .dataframe tbody tr th:only-of-type {\n",
       "        vertical-align: middle;\n",
       "    }\n",
       "\n",
       "    .dataframe tbody tr th {\n",
       "        vertical-align: top;\n",
       "    }\n",
       "\n",
       "    .dataframe thead th {\n",
       "        text-align: right;\n",
       "    }\n",
       "</style>\n",
       "<table border=\"1\" class=\"dataframe\">\n",
       "  <thead>\n",
       "    <tr style=\"text-align: right;\">\n",
       "      <th></th>\n",
       "      <th>total_bill</th>\n",
       "      <th>tip</th>\n",
       "      <th>size</th>\n",
       "    </tr>\n",
       "  </thead>\n",
       "  <tbody>\n",
       "    <tr>\n",
       "      <th>total_bill</th>\n",
       "      <td>79.252939</td>\n",
       "      <td>8.323502</td>\n",
       "      <td>5.065983</td>\n",
       "    </tr>\n",
       "    <tr>\n",
       "      <th>tip</th>\n",
       "      <td>8.323502</td>\n",
       "      <td>1.914455</td>\n",
       "      <td>0.643906</td>\n",
       "    </tr>\n",
       "    <tr>\n",
       "      <th>size</th>\n",
       "      <td>5.065983</td>\n",
       "      <td>0.643906</td>\n",
       "      <td>0.904591</td>\n",
       "    </tr>\n",
       "  </tbody>\n",
       "</table>\n",
       "</div>"
      ],
      "text/plain": [
       "            total_bill       tip      size\n",
       "total_bill   79.252939  8.323502  5.065983\n",
       "tip           8.323502  1.914455  0.643906\n",
       "size          5.065983  0.643906  0.904591"
      ]
     },
     "execution_count": 16,
     "metadata": {},
     "output_type": "execute_result"
    }
   ],
   "source": [
    "data_cov = dataset.select_dtypes([\"Float64\",\"int64\"]).cov()\n",
    "data_cov"
   ]
  },
  {
   "cell_type": "code",
   "execution_count": 21,
   "id": "5ae0eaf4-e7bf-4595-a438-43290280c1d3",
   "metadata": {},
   "outputs": [
    {
     "data": {
      "image/png": "[encoded data removed]",
      "text/plain": [
       "<Figure size 400x300 with 2 Axes>"
      ]
     },
     "metadata": {},
     "output_type": "display_data"
    }
   ],
   "source": [
    "plt.figure(figsize=(4,3))  # for small size\n",
    "sns.heatmap(data_corr,annot=True)   # for number seen we call annot=True\n",
    "plt.show()"
   ]
  },
  {
   "cell_type": "code",
   "execution_count": 22,
   "id": "74551828-586a-49c1-b11b-ca7fe156cddf",
   "metadata": {},
   "outputs": [
    {
     "data": {
      "image/png": "[encoded data removed]",
      "text/plain": [
       "<Figure size 400x300 with 2 Axes>"
      ]
     },
     "metadata": {},
     "output_type": "display_data"
    }
   ],
   "source": [
    "plt.figure(figsize=(4,3))  # for small size\n",
    "sns.heatmap(data_cov,annot=True)   # for number seen we call annot=True\n",
    "plt.show()"
   ]
  },
  {
   "cell_type": "markdown",
   "id": "9941dcaa-f9fd-4fda-a9ba-c16eb6433e4b",
   "metadata": {},
   "source": [
    "# Central limit theorem\n",
    "- The central limit theorem states that when plottimg the sample distribution of means the means of the sample will be equal to the population mean and the sample distribution will approach normal distribution with variance equal to standard error v\n",
    "- The sample data must be sampled and selected randomly from the population\n",
    "- There should not be any multicollinearity in the sampled data which one sample should not influence the other samples.\n",
    "- The sample size should be no more than 10% of the population. Generally  sample size greater than (n>30) is considered good"
   ]
  },
  {
   "cell_type": "code",
   "execution_count": 1,
   "id": "fe501842-3c2a-41a8-992b-7cf0c2389141",
   "metadata": {},
   "outputs": [],
   "source": [
    "import numpy as np \n",
    "import pandas as pd\n",
    "import matplotlib.pyplot as plt   # for graph\n",
    "import seaborn as sns   # for adavance graph "
   ]
  },
  {
   "cell_type": "code",
   "execution_count": 2,
   "id": "5bc3a303-97e6-4f28-94b1-32f7be057808",
   "metadata": {},
   "outputs": [],
   "source": [
    "pop_data = [np.random.randint(10,100) for i in range(10000)]\n",
    "pop_table = pd.DataFrame({\"Pop_data\":pop_data})"
   ]
  },
  {
   "cell_type": "code",
   "execution_count": 19,
   "id": "1c04e802-0b47-42de-97b3-550bce3a5b9a",
   "metadata": {},
   "outputs": [
    {
     "data": {
      "text/plain": [
       "np.float64(54.8993)"
      ]
     },
     "execution_count": 19,
     "metadata": {},
     "output_type": "execute_result"
    }
   ],
   "source": [
    "np.mean(pop_data)"
   ]
  },
  {
   "cell_type": "code",
   "execution_count": 3,
   "id": "0e631f28-5fbb-469f-b2c4-ae613ae6da96",
   "metadata": {},
   "outputs": [
    {
     "data": {
      "image/png": "[encoded data removed]",
      "text/plain": [
       "<Figure size 300x200 with 1 Axes>"
      ]
     },
     "metadata": {},
     "output_type": "display_data"
    }
   ],
   "source": [
    "plt.figure(figsize=(3,2))\n",
    "sns.kdeplot(x=\"Pop_data\",data=pop_table)\n",
    "plt.show()"
   ]
  },
  {
   "cell_type": "code",
   "execution_count": 35,
   "id": "f08f1fdd-36f7-4b3f-9e09-5098e5f209a2",
   "metadata": {},
   "outputs": [],
   "source": [
    "sample_mean = []\n",
    "for no_sample in range(60):\n",
    "    sample_data\n",
    "    for data in range(500):\n",
    "       sample_data.append(np.random.choice(pop_data))\n",
    "    sample_mean.append(np.mean(sample_data))"
   ]
  },
  {
   "cell_type": "code",
   "execution_count": 36,
   "id": "efe1d86e-5e56-48a6-9488-a2a4db9ccbf6",
   "metadata": {},
   "outputs": [
    {
     "data": {
      "text/plain": [
       "np.float64(55.02748246142053)"
      ]
     },
     "execution_count": 36,
     "metadata": {},
     "output_type": "execute_result"
    }
   ],
   "source": [
    "np.mean(sample_mean)              "
   ]
  },
  {
   "cell_type": "code",
   "execution_count": 37,
   "id": "e80b938e-59f7-4da7-8d80-2376cb66647d",
   "metadata": {},
   "outputs": [],
   "source": [
    "sample_M = pd.DataFrame({\"Sample_Mean\":sample_mean})"
   ]
  },
  {
   "cell_type": "code",
   "execution_count": 38,
   "id": "ecc4c7fc-5802-46ec-acad-6a2e9ee3674d",
   "metadata": {},
   "outputs": [
    {
     "data": {
      "image/png": "[encoded data removed]",
      "text/plain": [
       "<Figure size 300x200 with 1 Axes>"
      ]
     },
     "metadata": {},
     "output_type": "display_data"
    }
   ],
   "source": [
    "plt.figure(figsize=(3,2))   # for small graph\n",
    "sns.kdeplot(x=\"Sample_Mean\",data=sample_M) \n",
    "plt.show()                                                                "
   ]
  },
  {
   "cell_type": "markdown",
   "id": "e8e8e23e-6a96-4ad5-a157-260d153e5b23",
   "metadata": {},
   "source": [
    "# Hypothesis Testing  ( very very important) \n",
    "- It is a part of statistical analysis,where we test the assumptions made regarding a population prameter. it is generally used when we were to compare a single group with an external standard and two or more groups with each other"
   ]
  },
  {
   "cell_type": "code",
   "execution_count": null,
   "id": "119c3eef-bc0f-4b6a-8723-261ac4e530e4",
   "metadata": {},
   "outputs": [],
   "source": []
  }
 ],
 "metadata": {
  "kernelspec": {
   "display_name": "Python 3 (ipykernel)",
   "language": "python",
   "name": "python3"
  },
  "language_info": {
   "codemirror_mode": {
    "name": "ipython",
    "version": 3
   },
   "file_extension": ".py",
   "mimetype": "text/x-python",
   "name": "python",
   "nbconvert_exporter": "python",
   "pygments_lexer": "ipython3",
   "version": "3.13.5"
  }
 },
 "nbformat": 4,
 "nbformat_minor": 5
}
