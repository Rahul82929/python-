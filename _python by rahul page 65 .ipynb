{
 "cells": [
  {
   "cell_type": "markdown",
   "id": "44544017-d4e5-4b55-ada1-6765b258abb7",
   "metadata": {},
   "source": [
    "# List"
   ]
  },
  {
   "cell_type": "code",
   "execution_count": 1,
   "id": "7e12c0c5-0bb5-43da-bef5-2434342bf2fb",
   "metadata": {},
   "outputs": [
    {
     "data": {
      "text/plain": [
       "list"
      ]
     },
     "execution_count": 1,
     "metadata": {},
     "output_type": "execute_result"
    }
   ],
   "source": [
    "# creating an empty list in python\n",
    "height = []\n",
    "type(height)"
   ]
  },
  {
   "cell_type": "code",
   "execution_count": 2,
   "id": "2fe0691e-2aa7-4fe6-b06a-e0db6ee99194",
   "metadata": {},
   "outputs": [
    {
     "name": "stdout",
     "output_type": "stream",
     "text": [
      "[1.76, 1.64, 1.79, 1, 57]\n"
     ]
    }
   ],
   "source": [
    "# a list containing heights\n",
    "height_list = [1.76,1.64,1.79,1,57]\n",
    "print(height_list)"
   ]
  },
  {
   "cell_type": "code",
   "execution_count": 4,
   "id": "314002a2-ee79-4a8a-b112-650d73cc18f4",
   "metadata": {},
   "outputs": [
    {
     "name": "stdout",
     "output_type": "stream",
     "text": [
      "['Tom', 1.76, 'Harry', 1.76, 'Lisa', 1.79, 'Mona', 1.57]\n"
     ]
    }
   ],
   "source": [
    "# a list containing str and float\n",
    "name_height_list = [\"Tom\",1.76,\"Harry\",1.76,\"Lisa\",1.79,\"Mona\",1.57]\n",
    "print(name_height_list)"
   ]
  },
  {
   "cell_type": "code",
   "execution_count": 5,
   "id": "de5747e3-fc9a-4351-9dd2-efb11da0415f",
   "metadata": {},
   "outputs": [],
   "source": [
    "#Different list manipulation operations"
   ]
  },
  {
   "cell_type": "code",
   "execution_count": 6,
   "id": "8c726a99-7c2c-4ca9-a02f-46196e4817c6",
   "metadata": {},
   "outputs": [
    {
     "name": "stdout",
     "output_type": "stream",
     "text": [
      "pythonis vary easy to learn for Data science\n",
      "cis the first languange I have learnt\n",
      "javais difficult to learn for Data science\n"
     ]
    }
   ],
   "source": [
    "lang = ['python','c','java']              #Begin with number zero\n",
    "\n",
    "print(lang[0] + \"is vary easy to learn for Data science\")\n",
    "print(lang[1] + \"is the first languange I have learnt\")\n",
    "print(lang[2] + \"is difficult to learn for Data science\")"
   ]
  },
  {
   "cell_type": "code",
   "execution_count": 9,
   "id": "80ff5cb7-1a7a-4ec0-88a8-fc5e4b5f8859",
   "metadata": {},
   "outputs": [
    {
     "name": "stdout",
     "output_type": "stream",
     "text": [
      "old list: ['python', 'c', 'java']\n",
      "new list: ['python', 'c', 'cobol']\n"
     ]
    }
   ],
   "source": [
    "lang = [\"python\",\"c\",\"java\"]             \n",
    "print(\"old list:\",lang)\n",
    "lang[2] = \"cobol\"\n",
    "print(\"new list:\",lang)              #changing java with cobol language"
   ]
  },
  {
   "cell_type": "code",
   "execution_count": 11,
   "id": "d8a0df67-f80b-42d2-9f34-d5dae182a6e5",
   "metadata": {},
   "outputs": [
    {
     "name": "stdout",
     "output_type": "stream",
     "text": [
      "language is: python\n",
      "language is: c\n",
      "language is: cobol\n"
     ]
    }
   ],
   "source": [
    "# using for loop\n",
    "language_list =[\"python\",\"c\",\"cobol\"]\n",
    "for language in language_list:\n",
    "    print(\"language is:\",language)"
   ]
  },
  {
   "cell_type": "code",
   "execution_count": 13,
   "id": "bcac4f4c-24de-46e6-92b3-0c953dc420be",
   "metadata": {},
   "outputs": [
    {
     "name": "stdout",
     "output_type": "stream",
     "text": [
      "elements in the list: 3\n"
     ]
    }
   ],
   "source": [
    "#Using list's len() method\n",
    "language_list = [\"python\",\"c\",\"cobol\"]\n",
    "print(\"elements in the list:\",len(language_list))"
   ]
  },
  {
   "cell_type": "code",
   "execution_count": null,
   "id": "5809ce7c-dba6-4f9a-ba99-9a41cca8e2e0",
   "metadata": {},
   "outputs": [],
   "source": [
    "#Using list's append() method"
   ]
  },
  {
   "cell_type": "code",
   "execution_count": 10,
   "id": "59d13112-392b-410a-9e4e-66a6f492c993",
   "metadata": {},
   "outputs": [
    {
     "name": "stdout",
     "output_type": "stream",
     "text": [
      "updated list is: ['python', 'c', 'cobol', 'java']\n"
     ]
    }
   ],
   "source": [
    "language_list = [\"python\",\"c\",\"cobol\"]\n",
    "language_list.append(\"java\")\n",
    "print(\"updated list is:\",language_list)"
   ]
  },
  {
   "cell_type": "code",
   "execution_count": 11,
   "id": "65ad9af2-f72a-4b72-8739-f4e514e2fd41",
   "metadata": {},
   "outputs": [
    {
     "name": "stdout",
     "output_type": "stream",
     "text": [
      "modified list is: ['python', 'c', '.net', 'cobol']\n"
     ]
    }
   ],
   "source": [
    "language_list = [\"python\",\"c\",\"cobol\"]            # Adding a new language .net\n",
    "language_list.insert(2,'.net')\n",
    "print(\"modified list is:\",language_list)"
   ]
  },
  {
   "cell_type": "code",
   "execution_count": 13,
   "id": "9c1dc24c-de93-4512-8f69-710bd53471b7",
   "metadata": {},
   "outputs": [
    {
     "name": "stdout",
     "output_type": "stream",
     "text": [
      "updated list: ['python', 'c', '.net', 'java']\n",
      "latest list: ['python', 'c', '.net']\n"
     ]
    }
   ],
   "source": [
    "language_list = ['python', 'c', '.net', 'cobol','java'] #Removing some element for list \n",
    "# remove element by name\n",
    "language_list.remove('cobol')\n",
    "print(\"updated list:\",language_list)\n",
    "# remove element by index\n",
    "language_list.pop(3)\n",
    "print(\"latest list:\",language_list)\n"
   ]
  },
  {
   "cell_type": "code",
   "execution_count": 21,
   "id": "a2ca0e19-9789-4c50-b674-83a6a56b8139",
   "metadata": {},
   "outputs": [
    {
     "name": "stdout",
     "output_type": "stream",
     "text": [
      "list after remove() example: [1, 2, 3, 5, 1]\n",
      "list after pop() example: [1, 2, 3, 5]\n",
      "list after del() example: [1, 2, 3, 4]\n"
     ]
    }
   ],
   "source": [
    "number_list = [1,2,3,4,5,1]                       # Applying different methods to remove an element\n",
    "number_list.remove(4)\n",
    "print(\"list after remove() example:\", number_list)\n",
    "\n",
    "num_list = [1,2,3,4,1] \n",
    "number_list.pop(4)\n",
    "print(\"list after pop() example:\",number_list)\n",
    "\n",
    "number_list = [1,2,3,4,1]\n",
    "del(number_list[4])\n",
    "print(\"list after del() example:\", number_list)"
   ]
  },
  {
   "cell_type": "code",
   "execution_count": 9,
   "id": "0c35bbf9-8dc9-4140-b6b0-a28f99fa93be",
   "metadata": {},
   "outputs": [],
   "source": [
    "# Sorting list in ascending and descending order\n",
    "language_list = ['python','c','.net','cobol','java']\n",
    "language_list.sort()"
   ]
  },
  {
   "cell_type": "code",
   "execution_count": 10,
   "id": "0f6ac66c-5eaa-40cd-b507-a4ce3610bb37",
   "metadata": {},
   "outputs": [
    {
     "name": "stdout",
     "output_type": "stream",
     "text": [
      "sort in ascending order: ['.net', 'c', 'cobol', 'java', 'python']\n"
     ]
    }
   ],
   "source": [
    "print(\"sort in ascending order:\",language_list)"
   ]
  },
  {
   "cell_type": "code",
   "execution_count": 11,
   "id": "fa05e1ba-1cc6-4285-8a26-e661c8277806",
   "metadata": {},
   "outputs": [],
   "source": [
    "language_list = ['python','c','.net','cobol','java']\n",
    "language_list.sort(reverse=True)"
   ]
  },
  {
   "cell_type": "code",
   "execution_count": 12,
   "id": "cf16725c-742c-4b14-8ccf-d5d4488e58a8",
   "metadata": {},
   "outputs": [
    {
     "name": "stdout",
     "output_type": "stream",
     "text": [
      "sort in descending order: ['python', 'java', 'cobol', 'c', '.net']\n"
     ]
    }
   ],
   "source": [
    "print(\"sort in descending order:\",language_list)"
   ]
  },
  {
   "cell_type": "code",
   "execution_count": 14,
   "id": "8c3bb4b5-9d3e-47c6-9d79-750c5a0fd64c",
   "metadata": {},
   "outputs": [],
   "source": [
    "tuple_example = ('cs','it','ec','me')"
   ]
  },
  {
   "cell_type": "code",
   "execution_count": 15,
   "id": "38371773-e5be-45f8-a2be-2e024f2ccc0e",
   "metadata": {},
   "outputs": [
    {
     "name": "stdout",
     "output_type": "stream",
     "text": [
      "tuple_example: ('cs', 'it', 'ec', 'me')\n"
     ]
    }
   ],
   "source": [
    "print('tuple_example:',tuple_example)"
   ]
  },
  {
   "cell_type": "code",
   "execution_count": 17,
   "id": "efc84089-093e-443f-afed-69d9fffeea87",
   "metadata": {},
   "outputs": [
    {
     "name": "stdout",
     "output_type": "stream",
     "text": [
      "data type of the example is: <class 'tuple'>\n"
     ]
    }
   ],
   "source": [
    "print(\"data type of the example is:\", type(tuple_example))"
   ]
  },
  {
   "cell_type": "markdown",
   "id": "d74fa949-f3e1-47e8-bbd0-e4ea6498646e",
   "metadata": {},
   "source": [
    "# Dictionary"
   ]
  },
  {
   "cell_type": "code",
   "execution_count": 58,
   "id": "00d58575-9d7d-408b-a0d5-425677e4b2ff",
   "metadata": {},
   "outputs": [
    {
     "name": "stdout",
     "output_type": "stream",
     "text": [
      "dict_example: {'name': 'Rahul', 'father name': 'Madan ray', 'brand': 'land lover', 'model': 'defender', 'type': 'suv', 'year': '2025'}\n"
     ]
    }
   ],
   "source": [
    "# How to creating a dictionary\n",
    "dict_example = {'name':'Rahul','father name':'Madan ray','brand':'land lover','model':'defender','type':'suv','year':'2025'}\n",
    "print(\"dict_example:\",dict_example)"
   ]
  },
  {
   "cell_type": "markdown",
   "id": "bd60fc1e-8ad5-45ed-8fdd-15c915b0bc20",
   "metadata": {},
   "source": [
    "# some operations with dictionary"
   ]
  },
  {
   "cell_type": "code",
   "execution_count": 60,
   "id": "9e080a73-d9b3-4c24-b480-c76e409efb3a",
   "metadata": {},
   "outputs": [],
   "source": [
    "# access the brand value by key\n",
    "car_brand_by_key = dict_example['brand']"
   ]
  },
  {
   "cell_type": "code",
   "execution_count": 61,
   "id": "e655a3be-bd0b-4e84-9006-012eeff0bded",
   "metadata": {},
   "outputs": [
    {
     "name": "stdout",
     "output_type": "stream",
     "text": [
      "car brand by key: land lover\n"
     ]
    }
   ],
   "source": [
    "print(\"car brand by key:\",car_brand_by_key)"
   ]
  },
  {
   "cell_type": "code",
   "execution_count": 62,
   "id": "202f13dd-bf67-4e9c-86cd-af1f88024e9b",
   "metadata": {},
   "outputs": [
    {
     "name": "stdout",
     "output_type": "stream",
     "text": [
      "car brand by get: land lover\n"
     ]
    }
   ],
   "source": [
    "# access the brand value by get()\n",
    "print(\"car brand by get:\",dict_example.get('brand'))"
   ]
  },
  {
   "cell_type": "code",
   "execution_count": 63,
   "id": "c20a479d-14e3-41d8-9512-c92ac4011b8e",
   "metadata": {},
   "outputs": [
    {
     "name": "stdout",
     "output_type": "stream",
     "text": [
      "updated dict: {'name': 'Rahul', 'father name': 'Madan ray', 'brand': 'land lover', 'model': 'defender', 'type': 'suv', 'year': '2026'}\n"
     ]
    }
   ],
   "source": [
    "# changing value in dictionary\n",
    "dict_example['year'] = '2026'\n",
    "print(\"updated dict:\",dict_example)"
   ]
  },
  {
   "cell_type": "markdown",
   "id": "df411793-c34b-4ac6-963c-1b4da9588e34",
   "metadata": {},
   "source": [
    "# for loop"
   ]
  },
  {
   "cell_type": "code",
   "execution_count": 65,
   "id": "a23f5324-bd92-4e0d-a830-e677ef53db83",
   "metadata": {},
   "outputs": [
    {
     "name": "stdout",
     "output_type": "stream",
     "text": [
      "key in dict: name\n",
      "key in dict: father name\n",
      "key in dict: brand\n",
      "key in dict: model\n",
      "key in dict: type\n",
      "key in dict: year\n"
     ]
    }
   ],
   "source": [
    "# printing all keys\n",
    "for car_property in dict_example:\n",
    "    print(\"key in dict:\",car_property)"
   ]
  },
  {
   "cell_type": "code",
   "execution_count": 66,
   "id": "758f4941-30cd-4a3e-a988-ace3a4da956c",
   "metadata": {},
   "outputs": [
    {
     "name": "stdout",
     "output_type": "stream",
     "text": [
      "value in dict: Rahul\n",
      "value in dict: Madan ray\n",
      "value in dict: land lover\n",
      "value in dict: defender\n",
      "value in dict: suv\n",
      "value in dict: 2026\n"
     ]
    }
   ],
   "source": [
    "# printing all values\n",
    "for car_property_value in dict_example.values():\n",
    "    print(\"value in dict:\",car_property_value)"
   ]
  },
  {
   "cell_type": "code",
   "execution_count": 67,
   "id": "4b3e7a25-4577-46e7-bc30-c361c31c11ef",
   "metadata": {},
   "outputs": [
    {
     "name": "stdout",
     "output_type": "stream",
     "text": [
      "name Rahul\n",
      "father name Madan ray\n",
      "brand land lover\n",
      "model defender\n",
      "type suv\n",
      "year 2026\n"
     ]
    }
   ],
   "source": [
    "# Displaying car details in a key-value pair\n",
    "for car_property,car_property_value in dict_example.items():\n",
    "    print(car_property,car_property_value)"
   ]
  },
  {
   "cell_type": "markdown",
   "id": "2c5f8569-8379-4e2b-9e9e-37e690fef3c2",
   "metadata": {},
   "source": [
    "# Package,function,and loop"
   ]
  },
  {
   "cell_type": "code",
   "execution_count": 68,
   "id": "7779ff18-112f-4938-9fbf-b3724b871bd1",
   "metadata": {},
   "outputs": [
    {
     "name": "stdout",
     "output_type": "stream",
     "text": [
      "Help on built-in function len in module builtins:\n",
      "\n",
      "len(obj, /)\n",
      "    Return the number of items in a container.\n",
      "\n"
     ]
    }
   ],
   "source": [
    "#using help() function\n",
    "help(len)"
   ]
  },
  {
   "cell_type": "code",
   "execution_count": 69,
   "id": "3f7c3ee8-ce8d-4702-b491-007648f12fcb",
   "metadata": {},
   "outputs": [],
   "source": [
    "# Math package provided by python\n",
    "import math"
   ]
  },
  {
   "cell_type": "code",
   "execution_count": 71,
   "id": "fa07e994-5db9-4a34-b2d9-431c0794cdec",
   "metadata": {},
   "outputs": [
    {
     "name": "stdout",
     "output_type": "stream",
     "text": [
      "area of the land is: 108.98844649760245\n"
     ]
    }
   ],
   "source": [
    "# define area as variable area\n",
    "area = 0\n",
    "# define radius as varible r\n",
    "r = 5.89\n",
    "# calculate area\n",
    "area = math.pi*r**2\n",
    "print(\"area of the land is:\",area)"
   ]
  },
  {
   "cell_type": "markdown",
   "id": "bf8eab7d-878d-4aab-b30d-e291592bbb8a",
   "metadata": {},
   "source": [
    "# importing pi package from math package"
   ]
  },
  {
   "cell_type": "code",
   "execution_count": 73,
   "id": "09e82b48-3c2f-4b43-9782-3bdd8a9c10f3",
   "metadata": {},
   "outputs": [
    {
     "name": "stdout",
     "output_type": "stream",
     "text": [
      "area of the land is: 108.98844649760245\n"
     ]
    }
   ],
   "source": [
    "from math import pi\n",
    "# define radius as variable r\n",
    "r = 5.89\n",
    "# calculate area\n",
    "area = math.pi*r**2\n",
    "print(\"area of the land is:\",area)"
   ]
  },
  {
   "cell_type": "markdown",
   "id": "aeb35308-4605-46ae-b103-879b16d469d8",
   "metadata": {},
   "source": [
    "# How to create and call function"
   ]
  },
  {
   "cell_type": "code",
   "execution_count": 74,
   "id": "4c7714ae-c8b6-4e40-9425-b947ef26abe2",
   "metadata": {},
   "outputs": [],
   "source": [
    "# defining my own function\n",
    "def my_function():\n",
    "    print(\"Hello world\")"
   ]
  },
  {
   "cell_type": "code",
   "execution_count": 75,
   "id": "d9a9ea1e-7463-470f-98d5-12b56beec4ed",
   "metadata": {},
   "outputs": [
    {
     "name": "stdout",
     "output_type": "stream",
     "text": [
      "Hello world\n"
     ]
    }
   ],
   "source": [
    "# calling my function\n",
    "my_function()"
   ]
  },
  {
   "cell_type": "code",
   "execution_count": 1,
   "id": "485645e4-9d42-4b73-a9d2-681a612d8bc0",
   "metadata": {},
   "outputs": [],
   "source": [
    "# Defining a function to return sum of two values\n",
    "def add_two_numbers(a,b):\n",
    "    return a + b"
   ]
  },
  {
   "cell_type": "code",
   "execution_count": 2,
   "id": "03878626-e3ad-4042-b655-cb4e7d0eb226",
   "metadata": {},
   "outputs": [
    {
     "data": {
      "text/plain": [
       "17"
      ]
     },
     "execution_count": 2,
     "metadata": {},
     "output_type": "execute_result"
    }
   ],
   "source": [
    "# call the function\n",
    "add_two_numbers(9,8)"
   ]
  },
  {
   "cell_type": "code",
   "execution_count": 3,
   "id": "f812eb08-f410-4181-89e7-fe028820a39b",
   "metadata": {},
   "outputs": [],
   "source": [
    "# Default parameter in a function\n",
    "# defining a function with default parameter\n",
    "def add_function(a,b = 6):\n",
    "    return a + b"
   ]
  },
  {
   "cell_type": "code",
   "execution_count": 4,
   "id": "7b0ba941-e586-4a5d-9b86-7c6a8430730c",
   "metadata": {},
   "outputs": [
    {
     "data": {
      "text/plain": [
       "7"
      ]
     },
     "execution_count": 4,
     "metadata": {},
     "output_type": "execute_result"
    }
   ],
   "source": [
    "add_function(a=1)       # call add_function() with only a parameter "
   ]
  },
  {
   "cell_type": "code",
   "execution_count": null,
   "id": "63cd96fc-a63c-4496-82f0-204f7059acb5",
   "metadata": {},
   "outputs": [],
   "source": [
    "#Sum() function to add three numbers"
   ]
  },
  {
   "cell_type": "code",
   "execution_count": 1,
   "id": "287af509-4765-4cec-9b4a-52f6e7e8b769",
   "metadata": {},
   "outputs": [],
   "source": [
    "# Define add_function() function to accept\n",
    "def add_function(*args):\n",
    "    return sum(args)"
   ]
  },
  {
   "cell_type": "code",
   "execution_count": 2,
   "id": "5b2e79a1-508a-48b7-bbaf-7ca71512996b",
   "metadata": {},
   "outputs": [
    {
     "data": {
      "text/plain": [
       "21"
      ]
     },
     "execution_count": 2,
     "metadata": {},
     "output_type": "execute_result"
    }
   ],
   "source": [
    "#calculate the sum of the numbers\n",
    "add_function(9,4,8)"
   ]
  },
  {
   "cell_type": "code",
   "execution_count": 3,
   "id": "7ebf1cf9-89f4-4652-9fa4-6045c3da3a7a",
   "metadata": {},
   "outputs": [],
   "source": [
    "#Global variable in python"
   ]
  },
  {
   "cell_type": "code",
   "execution_count": 12,
   "id": "40978118-fdaf-4357-b0d9-d8810b16f5e2",
   "metadata": {},
   "outputs": [
    {
     "data": {
      "text/plain": [
       "<function __main__.first_function()>"
      ]
     },
     "execution_count": 12,
     "metadata": {},
     "output_type": "execute_result"
    }
   ],
   "source": [
    "# define a global scope variable\n",
    "my_text = \"I am learning python for Data science\"\n",
    "\n",
    "def first_function():\n",
    "        \"\"\"This function uses global scope variable\"\"\"\n",
    "        print(my_text)\n",
    "first_function\n"
   ]
  },
  {
   "cell_type": "code",
   "execution_count": 13,
   "id": "f9e4fa16-bd06-4cd5-9c3b-b8ea31544fe2",
   "metadata": {},
   "outputs": [
    {
     "name": "stdout",
     "output_type": "stream",
     "text": [
      "I am learning python for Data science\n"
     ]
    }
   ],
   "source": [
    "def second_function():\n",
    "    \"\"\"This function alse uses global scope variable\"\"\"\n",
    "    print(my_text)\n",
    "second_function()"
   ]
  },
  {
   "cell_type": "code",
   "execution_count": 15,
   "id": "122b0975-f133-4c75-8de6-db2f88f65eef",
   "metadata": {},
   "outputs": [
    {
     "name": "stdout",
     "output_type": "stream",
     "text": [
      " I am also learning\n",
      "I am learing python for Data dcience\n"
     ]
    }
   ],
   "source": [
    "def my_function():\n",
    "    my_text = \" I am also learning\"\n",
    "    print(my_text)\n",
    "\n",
    "# define a Global scope variable\n",
    "my_text = \"I am learing python for Data dcience\"\n",
    "my_function()\n",
    "print(my_text)"
   ]
  },
  {
   "cell_type": "markdown",
   "id": "4382b687-84f2-432e-9afa-0dc37b1c3283",
   "metadata": {},
   "source": [
    "# Lambda function and normal function"
   ]
  },
  {
   "cell_type": "code",
   "execution_count": 17,
   "id": "65db213d-88bc-4a52-94c2-c28605a8be84",
   "metadata": {},
   "outputs": [
    {
     "data": {
      "text/plain": [
       "10"
      ]
     },
     "execution_count": 17,
     "metadata": {},
     "output_type": "execute_result"
    }
   ],
   "source": [
    "def multiply(x):\n",
    "    return x*5\n",
    "multiply(2)"
   ]
  },
  {
   "cell_type": "code",
   "execution_count": 18,
   "id": "ca2bfe0c-f794-4774-bab9-2a8b283aeaca",
   "metadata": {},
   "outputs": [
    {
     "data": {
      "text/plain": [
       "10"
      ]
     },
     "execution_count": 18,
     "metadata": {},
     "output_type": "execute_result"
    }
   ],
   "source": [
    "# some functionality with lambda function\n",
    "multiply = lambda x: x*5\n",
    "multiply(2)"
   ]
  },
  {
   "cell_type": "code",
   "execution_count": 19,
   "id": "310b15e2-e9ed-4bfd-a033-b877fe8c3eee",
   "metadata": {},
   "outputs": [
    {
     "data": {
      "text/plain": [
       "17"
      ]
     },
     "execution_count": 19,
     "metadata": {},
     "output_type": "execute_result"
    }
   ],
   "source": [
    "def sum(x,y):\n",
    "    return x+y\n",
    "sum(9,8)"
   ]
  },
  {
   "cell_type": "code",
   "execution_count": 20,
   "id": "0b702cf6-ce3c-40e8-8be4-6e1dd565398d",
   "metadata": {},
   "outputs": [
    {
     "data": {
      "text/plain": [
       "17"
      ]
     },
     "execution_count": 20,
     "metadata": {},
     "output_type": "execute_result"
    }
   ],
   "source": [
    "# same example with lambda function\n",
    "sum = lambda x, y: x+y;\n",
    "sum(9,8)"
   ]
  },
  {
   "cell_type": "code",
   "execution_count": null,
   "id": "e58db408-8d57-49a5-9d76-fff4ef71e4f9",
   "metadata": {},
   "outputs": [],
   "source": []
  }
 ],
 "metadata": {
  "kernelspec": {
   "display_name": "Python 3 (ipykernel)",
   "language": "python",
   "name": "python3"
  },
  "language_info": {
   "codemirror_mode": {
    "name": "ipython",
    "version": 3
   },
   "file_extension": ".py",
   "mimetype": "text/x-python",
   "name": "python",
   "nbconvert_exporter": "python",
   "pygments_lexer": "ipython3",
   "version": "3.13.5"
  }
 },
 "nbformat": 4,
 "nbformat_minor": 5
}
